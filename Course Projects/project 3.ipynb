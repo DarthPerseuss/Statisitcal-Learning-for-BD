{
 "cells": [
  {
   "cell_type": "code",
   "execution_count": 208,
   "metadata": {},
   "outputs": [],
   "source": [
    "import numpy as np\n",
    "import sys\n",
    "from numpy.linalg import norm\n",
    "import matplotlib.pyplot as plt\n",
    "from sklearn.metrics import mean_squared_error\n",
    "from group_lasso import GroupLasso\n",
    "from sklearn.linear_model import Ridge\n",
    "from sklearn.pipeline import Pipeline\n",
    "import copy\n",
    "import warnings\n",
    "import time\n",
    "from scipy import stats\n",
    "%matplotlib inline "
   ]
  },
  {
   "cell_type": "code",
   "execution_count": 9,
   "metadata": {},
   "outputs": [],
   "source": [
    "def make_block_matrix(num_groups, group_size, within_gr_corr, between_gr_corr=0, random=False):\n",
    "\n",
    "    if between_gr_corr != 0:\n",
    "        if random is True:\n",
    "            blocks = np.array([np.random.uniform(0, 1, [group_size, group_size])]*(num_groups**2))\n",
    "        else:\n",
    "            blocks = np.array([np.ones([group_size, group_size])*between_gr_corr]*(num_groups**2))\n",
    "    else:\n",
    "        blocks = np.array([np.zeros([group_size, group_size])]*(num_groups**2))\n",
    "    # get the digonal block entries\n",
    "    sigmas = [i + i*num_groups for i in range(num_groups)]\n",
    "    covariance_matrix = np.ones([group_size, group_size])*within_gr_corr\n",
    "    np.fill_diagonal(covariance_matrix, 1)\n",
    "    blocks[np.array(sigmas)] = covariance_matrix\n",
    "    ordered_blocks = [[blocks[i*(num_groups) + j] for i in range(num_groups)] for j in range(num_groups)]\n",
    "    block_matrix = np.block(ordered_blocks)\n",
    "    return block_matrix"
   ]
  },
  {
   "cell_type": "code",
   "execution_count": 152,
   "metadata": {},
   "outputs": [
    {
     "data": {
      "text/plain": [
       "array([[1. , 0.2, 0.5, 0.5],\n",
       "       [0.2, 1. , 0.5, 0.5],\n",
       "       [0.5, 0.5, 1. , 0.2],\n",
       "       [0.5, 0.5, 0.2, 1. ]])"
      ]
     },
     "execution_count": 152,
     "metadata": {},
     "output_type": "execute_result"
    }
   ],
   "source": [
    "make_block_matrix(2,2,0.2,0.5)"
   ]
  },
  {
   "cell_type": "code",
   "execution_count": 68,
   "metadata": {},
   "outputs": [],
   "source": [
    "def simulate_regression(n_samples, n_coeffs, group_sizes, active_groups, beta_std, gamma, correlation_matrix=None):\n",
    "    beta = np.concatenate(\n",
    "    [\n",
    "        np.random.normal(0, beta_std, (group_size)) * is_active\n",
    "        for group_size, is_active in zip(group_sizes, active_groups)\n",
    "    ])\n",
    "    beta = beta.reshape(-1, 1)\n",
    "    true_coefficient_mask = beta != 0\n",
    "    if correlation_matrix is not None:\n",
    "        X = np.random.multivariate_normal(np.zeros(len(correlation_matrix)), \n",
    "                                          correlation_matrix, n_samples)\n",
    "    else:\n",
    "        X = np.random.standard_normal((n_samples, n_coeffs))\n",
    "    noise_std = ((np.sqrt((norm(np.matmul(X, beta), 2)**2)/(n_samples-1)))/gamma)**2\n",
    "    epsilon = np.random.normal(0, noise_std, (n_samples,1)) \n",
    "    y = np.matmul(X,beta) + epsilon\n",
    "    return X, beta, y"
   ]
  },
  {
   "cell_type": "code",
   "execution_count": 310,
   "metadata": {},
   "outputs": [],
   "source": [
    "def make_group_orderings(groups, new_members, group_reps=None, ordering_shuffles=None, total_shuffles=None):\n",
    "    gr_len = len(groups)\n",
    "    new_len = len(new_members)\n",
    "    \n",
    "    if max(new_members) > max(groups):\n",
    "        raise ValueError('Maximum assignable group is %s' %str(max(groups)))\n",
    "    \n",
    "    # Assign custom repeats to each group assignment\n",
    "    if group_reps is not None and isinstance(group_reps, (list, np.ndarray)) :\n",
    "        assert len(group_reps) == new_len\n",
    "        new_group = np.repeat(new_members, group_reps)\n",
    "        # shuffle the ordering within a repeat\n",
    "        if ordering_shuffles is not None:\n",
    "            if ordering_shuffles != len(new_group):\n",
    "                raise ValueError(\"new_group has length %d\" %len(new_group))\n",
    "            while True:\n",
    "                swap1 = np.random.randint(0, len(new_group), ordering_shuffles)\n",
    "                swap2 = copy.deepcopy(swap1)\n",
    "                np.random.shuffle(swap2)\n",
    "                if np.array_equal(swap1, swap2):\n",
    "                    continue\n",
    "                new_group[swap1] = new_group[swap2]\n",
    "                break          \n",
    "        newGroup_indexSpan = int(np.ceil(gr_len/len(new_group)))\n",
    "        new_groups = (np.stack([new_group for _ in range(newGroup_indexSpan)], axis=0))\n",
    "        new_groups = np.reshape(new_groups, (new_groups.size, 1))\n",
    "        # Trim the array\n",
    "        if len(new_groups) > gr_len:\n",
    "            diff = len(new_groups) - gr_len\n",
    "            mask = np.ones(len(new_groups), dtype=bool)\n",
    "            mask[-diff:] = False\n",
    "            new_groups = new_groups[mask]\n",
    "            assert len(new_groups) == gr_len\n",
    "            \n",
    "    # Fill the array with given ratio of index spans\n",
    "    elif group_reps is not None and isinstance(group_reps, tuple):\n",
    "        different_indexSpans = [np.rint(i/np.sum(group_reps) * gr_len) for i in group_reps]\n",
    "        new_groups = np.repeat(new_members, different_indexSpans)\n",
    "        if len(new_groups) > gr_len:\n",
    "            diff = len(new_groups) - gr_len\n",
    "            mask = np.ones(len(new_groups), dtype=bool)\n",
    "            mask[-diff:] = False\n",
    "            new_groups = new_groups[mask]\n",
    "        elif len(new_groups) < gr_len:\n",
    "            diff = gr_len - len(new_groups)\n",
    "            new_groups = np.append(new_groups, [new_groups[-1] for _ in range(diff)])\n",
    "        assert len(new_groups) == gr_len, f'{len(new_groups)} != {gr_len}'\n",
    "            \n",
    "    # Fills the array with equal index spans of groups\n",
    "    else:\n",
    "        newGroup_indexSpan = int(np.floor(gr_len/new_len))\n",
    "        new_groups = np.repeat(new_members, newGroup_indexSpan)\n",
    "        if len(new_groups) < gr_len:\n",
    "            diff = gr_len - len(new_groups)\n",
    "            new_groups = np.append(new_groups, [new_groups[-1] for _ in range(diff)])\n",
    "    # shuffles a given amount of elements in the total ordering        \n",
    "    if total_shuffles is not None:\n",
    "        if total_shuffles > gr_len:\n",
    "            raise ValueError(\"groups have length %d\" %gr_len)\n",
    "        while True:\n",
    "            swap1 = np.random.randint(0, len(new_groups), total_shuffles)\n",
    "            swap2 = copy.deepcopy(swap1)\n",
    "            np.random.shuffle(swap2)\n",
    "            if np.array_equal(swap1, swap2):\n",
    "                continue\n",
    "            new_groups[swap1] = new_groups[swap2]\n",
    "            break      \n",
    "        \n",
    "    return new_groups   "
   ]
  },
  {
   "cell_type": "code",
   "execution_count": 279,
   "metadata": {},
   "outputs": [
    {
     "data": {
      "text/plain": [
       "numpy.ndarray"
      ]
     },
     "execution_count": 279,
     "metadata": {},
     "output_type": "execute_result"
    }
   ],
   "source": [
    "a = np.arange(10)\n",
    "type(a)"
   ]
  },
  {
   "cell_type": "code",
   "execution_count": 192,
   "metadata": {},
   "outputs": [
    {
     "name": "stdout",
     "output_type": "stream",
     "text": [
      "(2496, 1)\n"
     ]
    },
    {
     "data": {
      "image/png": "[encoded data removed]",
      "text/plain": [
       "<Figure size 720x288 with 2 Axes>"
      ]
     },
     "metadata": {
      "needs_background": "light"
     },
     "output_type": "display_data"
    }
   ],
   "source": [
    "group_s = 32\n",
    "n_groups = 78\n",
    "group_sizes = [group_s for i in range(n_groups)]\n",
    "active_groups = [np.random.randint(2) for _ in group_sizes]\n",
    "groups = np.concatenate(\n",
    "    [size * [i] for i, size in enumerate(group_sizes)]).reshape(-1, 1)\n",
    "n_coeffs = sum(group_sizes)\n",
    "X, beta, y = simulate_regression(n_samples, n_coeffs, group_sizes, active_groups, beta_std, gamma)\n",
    "print(np.shape(beta))\n",
    "\n",
    "times = []\n",
    "MSE_list = []\n",
    "for group_reg in np.arange(0, 5, 0.2):\n",
    "    gl = GroupLasso(\n",
    "        groups=groups,\n",
    "        group_reg=group_reg,\n",
    "        l1_reg=0,\n",
    "        frobenius_lipschitz=True,\n",
    "        scale_reg=\"inverse_group_size\",\n",
    "        subsampling_scheme=1,\n",
    "        supress_warning=True,\n",
    "        n_iter=10000\n",
    "    )\n",
    "    start = time.time()\n",
    "    gl.fit(X, y)\n",
    "    stop = time.time()\n",
    "    times.append(stop-start)\n",
    "    \n",
    "    yhat = gl.predict(X)\n",
    "    sparsity_mask = gl.sparsity_mask_\n",
    "    beta_hat = gl.coef_\n",
    "\n",
    "    MSE = mean_squared_error(y, yhat)\n",
    "    MSE_list.append(MSE)\n",
    "\n",
    "    \n",
    "plt.figure(figsize=[10,4])\n",
    "plt.subplot(121)\n",
    "plt.plot(np.arange(0, 5, 0.2), times)\n",
    "plt.xlabel('group regularization')\n",
    "plt.ylabel('runtime')\n",
    "plt.title('Runtimes for a sample of 100 points and 2496 features')\n",
    "\n",
    "plt.subplot(122)\n",
    "plt.plot(np.arange(0, 5, 0.2), MSE_list)\n",
    "plt.xlabel('group regularization')\n",
    "plt.ylabel('MSE')\n",
    "\n",
    "plt.savefig('plot.png', dpi=300, bbox_inches='tight')\n",
    "plt.show()"
   ]
  },
  {
   "cell_type": "code",
   "execution_count": 198,
   "metadata": {},
   "outputs": [
    {
     "data": {
      "text/plain": [
       "(132, 1)"
      ]
     },
     "execution_count": 198,
     "metadata": {},
     "output_type": "execute_result"
    }
   ],
   "source": [
    "group_s = 11\n",
    "n_groups = 12\n",
    "group_sizes = [group_s for i in range(n_groups)]\n",
    "active_groups = [np.random.randint(2) for _ in group_sizes]\n",
    "groups = np.concatenate(\n",
    "    [size * [i] for i, size in enumerate(group_sizes)]).reshape(-1, 1)\n",
    "n_coeffs = sum(group_sizes)\n",
    "\n",
    "n_samples = 1000\n",
    "beta_std = 1\n",
    "gamma = 15\n",
    "\n",
    "b_matrix = make_block_matrix(n_groups, group_s, 0.8)\n",
    "X, beta, y = simulate_regression(n_samples, n_coeffs, group_sizes, active_groups, beta_std, gamma)\n",
    "np.shape(beta)"
   ]
  },
  {
   "cell_type": "code",
   "execution_count": 194,
   "metadata": {},
   "outputs": [
    {
     "name": "stdout",
     "output_type": "stream",
     "text": [
      "Number of chosen variables: 77\n"
     ]
    }
   ],
   "source": [
    "group_reg = 1\n",
    "gl = GroupLasso(\n",
    "    groups=groups,\n",
    "    group_reg=group_reg,\n",
    "    l1_reg=0,\n",
    "    frobenius_lipschitz=True,\n",
    "    scale_reg=\"inverse_group_size\",\n",
    "    subsampling_scheme=1,\n",
    "    supress_warning=True,\n",
    "    n_iter=10000\n",
    ")\n",
    "gl.fit(X, y)\n",
    "\n",
    "sparsity_mask = gl.sparsity_mask_\n",
    "beta_hat = gl.coef_\n",
    "\n",
    "print(f\"Number of chosen variables: {sparsity_mask.sum()}\")"
   ]
  },
  {
   "cell_type": "code",
   "execution_count": 350,
   "metadata": {},
   "outputs": [
    {
     "name": "stdout",
     "output_type": "stream",
     "text": [
      "Number of chosen variables: 44\n",
      "Number of chosen variables: 44\n",
      "Number of chosen variables: 44\n",
      "Number of chosen variables: 44\n",
      "Number of chosen variables: 44\n",
      "Number of chosen variables: 44\n",
      "Number of chosen variables: 44\n",
      "Number of chosen variables: 44\n",
      "Number of chosen variables: 44\n",
      "Number of chosen variables: 44\n"
     ]
    },
    {
     "data": {
      "image/png": "[encoded data removed]",
      "text/plain": [
       "<Figure size 432x288 with 1 Axes>"
      ]
     },
     "metadata": {
      "needs_background": "light"
     },
     "output_type": "display_data"
    }
   ],
   "source": [
    "reps = 1\n",
    "\n",
    "b_matrix_list = [make_block_matrix(n_groups, group_s, corr) for corr in np.arange(0.5, 1, 0.05)]\n",
    "MSE_list = [[] for _ in range(len(b_matrix_list))]\n",
    "RMSE_list = [[] for _ in range(len(b_matrix_list))]\n",
    "\n",
    "for i in range(len(b_matrix_list)):\n",
    "    for rep in range(reps):\n",
    "        X, beta, y = simulate_regression(n_samples, n_coeffs, group_sizes, active_groups, \n",
    "                                     beta_std, gamma, b_matrix_list[i])\n",
    "        gl_within_correlated = GroupLasso(\n",
    "        groups=groups,\n",
    "        group_reg=1,\n",
    "        l1_reg=0,\n",
    "        frobenius_lipschitz=True,\n",
    "        scale_reg=\"inverse_group_size\",\n",
    "        subsampling_scheme=1,\n",
    "        supress_warning=True,\n",
    "        n_iter=10000\n",
    "        )\n",
    "        gl_within_correlated.fit(X, y)\n",
    "        yhat = gl_within_correlated.predict(X)\n",
    "        sparsity_mask = gl_within_correlated.sparsity_mask_\n",
    "        beta_hat = gl_within_correlated.coef_\n",
    "\n",
    "        MSE = mean_squared_error(y, yhat)\n",
    "        RMSE = np.sqrt(MSE)\n",
    "        MSE_list[i].append(MSE)\n",
    "        RMSE_list[i].append(RMSE)\n",
    "        print(f\"Number of chosen variables: {sparsity_mask.sum()}\")\n",
    "\n",
    "MSE_list_mean = np.mean(MSE_list, axis=1)\n",
    "RMSE_list_mean = np.mean(RMSE_list, axis=1)\n",
    "assert len(MSE_list_mean) == len(b_matrix_list)\n",
    "\n",
    "fig = plt.figure()\n",
    "ax = fig.add_subplot(111)\n",
    "ax.plot(np.arange(0.5, 1, 0.05) , MSE_list_mean, label='MSE') \n",
    "ax.plot(np.arange(0.5, 1, 0.05), RMSE_list_mean, label='RMSE')\n",
    "ax.legend()\n",
    "ax.set_xlabel('Within Group Correlation')\n",
    "ax.set_ylabel('Error')\n",
    "ax.set_xticks(np.arange(0.5, 1, 0.05))\n",
    "\n",
    "plt.savefig('plot wgcorr.png', dpi=300, bbox_inches='tight')\n",
    "plt.show()"
   ]
  },
  {
   "cell_type": "code",
   "execution_count": 349,
   "metadata": {},
   "outputs": [
    {
     "ename": "KeyboardInterrupt",
     "evalue": "",
     "output_type": "error",
     "traceback": [
      "\u001b[1;31m---------------------------------------------------------------------------\u001b[0m",
      "\u001b[1;31mKeyboardInterrupt\u001b[0m                         Traceback (most recent call last)",
      "\u001b[1;32m<ipython-input-349-27444ac53fce>\u001b[0m in \u001b[0;36m<module>\u001b[1;34m\u001b[0m\n\u001b[0;32m     19\u001b[0m         \u001b[0mn_iter\u001b[0m\u001b[1;33m=\u001b[0m\u001b[1;36m10000\u001b[0m\u001b[1;33m\u001b[0m\u001b[1;33m\u001b[0m\u001b[0m\n\u001b[0;32m     20\u001b[0m         )\n\u001b[1;32m---> 21\u001b[1;33m         \u001b[0mgl_within_correlated\u001b[0m\u001b[1;33m.\u001b[0m\u001b[0mfit\u001b[0m\u001b[1;33m(\u001b[0m\u001b[0mX\u001b[0m\u001b[1;33m,\u001b[0m \u001b[0my\u001b[0m\u001b[1;33m)\u001b[0m\u001b[1;33m\u001b[0m\u001b[1;33m\u001b[0m\u001b[0m\n\u001b[0m\u001b[0;32m     22\u001b[0m         \u001b[0myhat\u001b[0m \u001b[1;33m=\u001b[0m \u001b[0mgl_within_correlated\u001b[0m\u001b[1;33m.\u001b[0m\u001b[0mpredict\u001b[0m\u001b[1;33m(\u001b[0m\u001b[0mX\u001b[0m\u001b[1;33m)\u001b[0m\u001b[1;33m\u001b[0m\u001b[1;33m\u001b[0m\u001b[0m\n\u001b[0;32m     23\u001b[0m         \u001b[0msparsity_mask\u001b[0m \u001b[1;33m=\u001b[0m \u001b[0mgl_within_correlated\u001b[0m\u001b[1;33m.\u001b[0m\u001b[0msparsity_mask_\u001b[0m\u001b[1;33m\u001b[0m\u001b[1;33m\u001b[0m\u001b[0m\n",
      "\u001b[1;32mc:\\users\\avajang-pc\\appdata\\local\\programs\\python\\python37\\lib\\site-packages\\group_lasso\\_group_lasso.py\u001b[0m in \u001b[0;36mfit\u001b[1;34m(self, X, y, lipschitz)\u001b[0m\n\u001b[0;32m    619\u001b[0m             \u001b[0mdata\u001b[0m \u001b[1;32mand\u001b[0m \u001b[0mtarget\u001b[0m \u001b[0mmatrices\u001b[0m\u001b[1;33m.\u001b[0m \u001b[0mIf\u001b[0m \u001b[1;32mNone\u001b[0m\u001b[1;33m,\u001b[0m \u001b[0mthis\u001b[0m \u001b[1;32mis\u001b[0m \u001b[0mestimated\u001b[0m\u001b[1;33m.\u001b[0m\u001b[1;33m\u001b[0m\u001b[1;33m\u001b[0m\u001b[0m\n\u001b[0;32m    620\u001b[0m         \"\"\"\n\u001b[1;32m--> 621\u001b[1;33m         \u001b[0msuper\u001b[0m\u001b[1;33m(\u001b[0m\u001b[1;33m)\u001b[0m\u001b[1;33m.\u001b[0m\u001b[0mfit\u001b[0m\u001b[1;33m(\u001b[0m\u001b[0mX\u001b[0m\u001b[1;33m,\u001b[0m \u001b[0my\u001b[0m\u001b[1;33m,\u001b[0m \u001b[0mlipschitz\u001b[0m\u001b[1;33m=\u001b[0m\u001b[0mlipschitz\u001b[0m\u001b[1;33m)\u001b[0m\u001b[1;33m\u001b[0m\u001b[1;33m\u001b[0m\u001b[0m\n\u001b[0m\u001b[0;32m    622\u001b[0m \u001b[1;33m\u001b[0m\u001b[0m\n\u001b[0;32m    623\u001b[0m     \u001b[1;32mdef\u001b[0m \u001b[0mpredict\u001b[0m\u001b[1;33m(\u001b[0m\u001b[0mself\u001b[0m\u001b[1;33m,\u001b[0m \u001b[0mX\u001b[0m\u001b[1;33m)\u001b[0m\u001b[1;33m:\u001b[0m\u001b[1;33m\u001b[0m\u001b[1;33m\u001b[0m\u001b[0m\n",
      "\u001b[1;32mc:\\users\\avajang-pc\\appdata\\local\\programs\\python\\python37\\lib\\site-packages\\group_lasso\\_group_lasso.py\u001b[0m in \u001b[0;36mfit\u001b[1;34m(self, X, y, lipschitz)\u001b[0m\n\u001b[0;32m    418\u001b[0m         \"\"\"\n\u001b[0;32m    419\u001b[0m         \u001b[0mself\u001b[0m\u001b[1;33m.\u001b[0m\u001b[0m_init_fit\u001b[0m\u001b[1;33m(\u001b[0m\u001b[0mX\u001b[0m\u001b[1;33m,\u001b[0m \u001b[0my\u001b[0m\u001b[1;33m,\u001b[0m \u001b[0mlipschitz\u001b[0m\u001b[1;33m=\u001b[0m\u001b[0mlipschitz\u001b[0m\u001b[1;33m)\u001b[0m\u001b[1;33m\u001b[0m\u001b[1;33m\u001b[0m\u001b[0m\n\u001b[1;32m--> 420\u001b[1;33m         \u001b[0mself\u001b[0m\u001b[1;33m.\u001b[0m\u001b[0m_minimise_loss\u001b[0m\u001b[1;33m(\u001b[0m\u001b[1;33m)\u001b[0m\u001b[1;33m\u001b[0m\u001b[1;33m\u001b[0m\u001b[0m\n\u001b[0m\u001b[0;32m    421\u001b[0m \u001b[1;33m\u001b[0m\u001b[0m\n\u001b[0;32m    422\u001b[0m     \u001b[1;33m@\u001b[0m\u001b[0mabstractmethod\u001b[0m\u001b[1;33m\u001b[0m\u001b[1;33m\u001b[0m\u001b[0m\n",
      "\u001b[1;32mc:\\users\\avajang-pc\\appdata\\local\\programs\\python\\python37\\lib\\site-packages\\group_lasso\\_group_lasso.py\u001b[0m in \u001b[0;36m_minimise_loss\u001b[1;34m(self)\u001b[0m\n\u001b[0;32m    353\u001b[0m             \u001b[0mn_iter\u001b[0m\u001b[1;33m=\u001b[0m\u001b[0mself\u001b[0m\u001b[1;33m.\u001b[0m\u001b[0mn_iter\u001b[0m\u001b[1;33m,\u001b[0m\u001b[1;33m\u001b[0m\u001b[1;33m\u001b[0m\u001b[0m\n\u001b[0;32m    354\u001b[0m             \u001b[0mtol\u001b[0m\u001b[1;33m=\u001b[0m\u001b[0mself\u001b[0m\u001b[1;33m.\u001b[0m\u001b[0mtol\u001b[0m\u001b[1;33m,\u001b[0m\u001b[1;33m\u001b[0m\u001b[1;33m\u001b[0m\u001b[0m\n\u001b[1;32m--> 355\u001b[1;33m             \u001b[0mcallback\u001b[0m\u001b[1;33m=\u001b[0m\u001b[0mcallback\u001b[0m\u001b[1;33m,\u001b[0m\u001b[1;33m\u001b[0m\u001b[1;33m\u001b[0m\u001b[0m\n\u001b[0m\u001b[0;32m    356\u001b[0m         )\n\u001b[0;32m    357\u001b[0m         \u001b[0mself\u001b[0m\u001b[1;33m.\u001b[0m\u001b[0mintercept_\u001b[0m\u001b[1;33m,\u001b[0m \u001b[0mself\u001b[0m\u001b[1;33m.\u001b[0m\u001b[0mcoef_\u001b[0m \u001b[1;33m=\u001b[0m \u001b[0m_split_intercept\u001b[0m\u001b[1;33m(\u001b[0m\u001b[0mweights\u001b[0m\u001b[1;33m)\u001b[0m\u001b[1;33m\u001b[0m\u001b[1;33m\u001b[0m\u001b[0m\n",
      "\u001b[1;32mc:\\users\\avajang-pc\\appdata\\local\\programs\\python\\python37\\lib\\site-packages\\group_lasso\\_fista.py\u001b[0m in \u001b[0;36mfista\u001b[1;34m(x0, grad, prox, loss, lipschitz, n_iter, tol, callback)\u001b[0m\n\u001b[0;32m     39\u001b[0m         \u001b[0mprevious_x\u001b[0m \u001b[1;33m=\u001b[0m \u001b[0moptimal_x\u001b[0m\u001b[1;33m\u001b[0m\u001b[1;33m\u001b[0m\u001b[0m\n\u001b[0;32m     40\u001b[0m         optimal_x, momentum_x, momentum = _fista_it(\n\u001b[1;32m---> 41\u001b[1;33m             \u001b[0moptimal_x\u001b[0m\u001b[1;33m,\u001b[0m \u001b[0mmomentum_x\u001b[0m\u001b[1;33m,\u001b[0m \u001b[0mmomentum\u001b[0m\u001b[1;33m,\u001b[0m \u001b[0mlipschitz\u001b[0m\u001b[1;33m,\u001b[0m \u001b[0mgrad\u001b[0m\u001b[1;33m,\u001b[0m \u001b[0mprox\u001b[0m\u001b[1;33m\u001b[0m\u001b[1;33m\u001b[0m\u001b[0m\n\u001b[0m\u001b[0;32m     42\u001b[0m         )\n\u001b[0;32m     43\u001b[0m \u001b[1;33m\u001b[0m\u001b[0m\n",
      "\u001b[1;32mc:\\users\\avajang-pc\\appdata\\local\\programs\\python\\python37\\lib\\site-packages\\group_lasso\\_fista.py\u001b[0m in \u001b[0;36m_fista_it\u001b[1;34m(x, momentum_x, momentum, lipschitz, grad, prox)\u001b[0m\n\u001b[0;32m     10\u001b[0m \u001b[1;33m\u001b[0m\u001b[0m\n\u001b[0;32m     11\u001b[0m \u001b[1;32mdef\u001b[0m \u001b[0m_fista_it\u001b[0m\u001b[1;33m(\u001b[0m\u001b[0mx\u001b[0m\u001b[1;33m,\u001b[0m \u001b[0mmomentum_x\u001b[0m\u001b[1;33m,\u001b[0m \u001b[0mmomentum\u001b[0m\u001b[1;33m,\u001b[0m \u001b[0mlipschitz\u001b[0m\u001b[1;33m,\u001b[0m \u001b[0mgrad\u001b[0m\u001b[1;33m,\u001b[0m \u001b[0mprox\u001b[0m\u001b[1;33m)\u001b[0m\u001b[1;33m:\u001b[0m\u001b[1;33m\u001b[0m\u001b[1;33m\u001b[0m\u001b[0m\n\u001b[1;32m---> 12\u001b[1;33m     \u001b[0mnew_x\u001b[0m \u001b[1;33m=\u001b[0m \u001b[0mprox\u001b[0m\u001b[1;33m(\u001b[0m\u001b[0mmomentum_x\u001b[0m \u001b[1;33m-\u001b[0m \u001b[1;36m0.5\u001b[0m \u001b[1;33m*\u001b[0m \u001b[0mgrad\u001b[0m\u001b[1;33m(\u001b[0m\u001b[0mmomentum_x\u001b[0m\u001b[1;33m)\u001b[0m \u001b[1;33m/\u001b[0m \u001b[0mlipschitz\u001b[0m\u001b[1;33m)\u001b[0m\u001b[1;33m\u001b[0m\u001b[1;33m\u001b[0m\u001b[0m\n\u001b[0m\u001b[0;32m     13\u001b[0m     \u001b[0mnew_momentum\u001b[0m \u001b[1;33m=\u001b[0m \u001b[0m_fista_momentum\u001b[0m\u001b[1;33m(\u001b[0m\u001b[0mmomentum\u001b[0m\u001b[1;33m)\u001b[0m\u001b[1;33m\u001b[0m\u001b[1;33m\u001b[0m\u001b[0m\n\u001b[0;32m     14\u001b[0m \u001b[1;33m\u001b[0m\u001b[0m\n",
      "\u001b[1;32mc:\\users\\avajang-pc\\appdata\\local\\programs\\python\\python37\\lib\\site-packages\\group_lasso\\_group_lasso.py\u001b[0m in \u001b[0;36m_unregularised_gradient\u001b[1;34m(self, w)\u001b[0m\n\u001b[0;32m    287\u001b[0m \u001b[1;33m\u001b[0m\u001b[0m\n\u001b[0;32m    288\u001b[0m     \u001b[1;32mdef\u001b[0m \u001b[0m_unregularised_gradient\u001b[0m\u001b[1;33m(\u001b[0m\u001b[0mself\u001b[0m\u001b[1;33m,\u001b[0m \u001b[0mw\u001b[0m\u001b[1;33m)\u001b[0m\u001b[1;33m:\u001b[0m\u001b[1;33m\u001b[0m\u001b[1;33m\u001b[0m\u001b[0m\n\u001b[1;32m--> 289\u001b[1;33m         \u001b[0mg\u001b[0m \u001b[1;33m=\u001b[0m \u001b[0mself\u001b[0m\u001b[1;33m.\u001b[0m\u001b[0m_grad\u001b[0m\u001b[1;33m(\u001b[0m\u001b[0mself\u001b[0m\u001b[1;33m.\u001b[0m\u001b[0mX_\u001b[0m\u001b[1;33m,\u001b[0m \u001b[0mself\u001b[0m\u001b[1;33m.\u001b[0m\u001b[0my_\u001b[0m\u001b[1;33m,\u001b[0m \u001b[0mw\u001b[0m\u001b[1;33m)\u001b[0m\u001b[1;33m\u001b[0m\u001b[1;33m\u001b[0m\u001b[0m\n\u001b[0m\u001b[0;32m    290\u001b[0m         \u001b[1;32mif\u001b[0m \u001b[1;32mnot\u001b[0m \u001b[0mself\u001b[0m\u001b[1;33m.\u001b[0m\u001b[0mfit_intercept\u001b[0m\u001b[1;33m:\u001b[0m\u001b[1;33m\u001b[0m\u001b[1;33m\u001b[0m\u001b[0m\n\u001b[0;32m    291\u001b[0m             \u001b[0mg\u001b[0m\u001b[1;33m[\u001b[0m\u001b[1;36m0\u001b[0m\u001b[1;33m]\u001b[0m \u001b[1;33m=\u001b[0m \u001b[1;36m0\u001b[0m\u001b[1;33m\u001b[0m\u001b[1;33m\u001b[0m\u001b[0m\n",
      "\u001b[1;32mc:\\users\\avajang-pc\\appdata\\local\\programs\\python\\python37\\lib\\site-packages\\group_lasso\\_group_lasso.py\u001b[0m in \u001b[0;36m_grad\u001b[1;34m(self, X, y, w)\u001b[0m\n\u001b[0;32m    633\u001b[0m     \u001b[1;32mdef\u001b[0m \u001b[0m_grad\u001b[0m\u001b[1;33m(\u001b[0m\u001b[0mself\u001b[0m\u001b[1;33m,\u001b[0m \u001b[0mX\u001b[0m\u001b[1;33m,\u001b[0m \u001b[0my\u001b[0m\u001b[1;33m,\u001b[0m \u001b[0mw\u001b[0m\u001b[1;33m)\u001b[0m\u001b[1;33m:\u001b[0m\u001b[1;33m\u001b[0m\u001b[1;33m\u001b[0m\u001b[0m\n\u001b[0;32m    634\u001b[0m         \u001b[0mX_\u001b[0m\u001b[1;33m,\u001b[0m \u001b[0my_\u001b[0m \u001b[1;33m=\u001b[0m \u001b[0mself\u001b[0m\u001b[1;33m.\u001b[0m\u001b[0msubsample\u001b[0m\u001b[1;33m(\u001b[0m\u001b[0mX\u001b[0m\u001b[1;33m,\u001b[0m \u001b[0my\u001b[0m\u001b[1;33m)\u001b[0m\u001b[1;33m\u001b[0m\u001b[1;33m\u001b[0m\u001b[0m\n\u001b[1;32m--> 635\u001b[1;33m         \u001b[0mSSE_grad\u001b[0m \u001b[1;33m=\u001b[0m \u001b[0m_l2_grad\u001b[0m\u001b[1;33m(\u001b[0m\u001b[0mX_\u001b[0m\u001b[1;33m,\u001b[0m \u001b[0my_\u001b[0m\u001b[1;33m,\u001b[0m \u001b[0mw\u001b[0m\u001b[1;33m)\u001b[0m\u001b[1;33m\u001b[0m\u001b[1;33m\u001b[0m\u001b[0m\n\u001b[0m\u001b[0;32m    636\u001b[0m         \u001b[1;32mreturn\u001b[0m \u001b[0mSSE_grad\u001b[0m \u001b[1;33m/\u001b[0m \u001b[0mX_\u001b[0m\u001b[1;33m.\u001b[0m\u001b[0mshape\u001b[0m\u001b[1;33m[\u001b[0m\u001b[1;36m0\u001b[0m\u001b[1;33m]\u001b[0m\u001b[1;33m\u001b[0m\u001b[1;33m\u001b[0m\u001b[0m\n\u001b[0;32m    637\u001b[0m \u001b[1;33m\u001b[0m\u001b[0m\n",
      "\u001b[1;32mc:\\users\\avajang-pc\\appdata\\local\\programs\\python\\python37\\lib\\site-packages\\group_lasso\\_group_lasso.py\u001b[0m in \u001b[0;36m_l2_grad\u001b[1;34m(A, b, x)\u001b[0m\n\u001b[0;32m    483\u001b[0m     \"\"\"The gradient of the problem ||Ax - b||^2 wrt x.\n\u001b[0;32m    484\u001b[0m     \"\"\"\n\u001b[1;32m--> 485\u001b[1;33m     \u001b[1;32mreturn\u001b[0m \u001b[0mA\u001b[0m\u001b[1;33m.\u001b[0m\u001b[0mT\u001b[0m \u001b[1;33m@\u001b[0m \u001b[1;33m(\u001b[0m\u001b[0mA\u001b[0m \u001b[1;33m@\u001b[0m \u001b[0mx\u001b[0m \u001b[1;33m-\u001b[0m \u001b[0mb\u001b[0m\u001b[1;33m)\u001b[0m\u001b[1;33m\u001b[0m\u001b[1;33m\u001b[0m\u001b[0m\n\u001b[0m\u001b[0;32m    486\u001b[0m \u001b[1;33m\u001b[0m\u001b[0m\n\u001b[0;32m    487\u001b[0m \u001b[1;33m\u001b[0m\u001b[0m\n",
      "\u001b[1;31mKeyboardInterrupt\u001b[0m: "
     ]
    }
   ],
   "source": [
    "reps = 50\n",
    "b_matrix_list = [make_block_matrix(n_groups, group_s, 0.9, corr) for corr in np.arange(0.5, 0.95, 0.05)]\n",
    "MSE_list = [[] for _ in range(len(b_matrix_list))]\n",
    "RMSE_list = [[] for _ in range(len(b_matrix_list))]\n",
    "\n",
    "\n",
    "for i in range(len(b_matrix_list)):\n",
    "    for rep in range(reps):\n",
    "        X, beta, y = simulate_regression(n_samples, n_coeffs, group_sizes, active_groups, \n",
    "                                     beta_std, gamma, b_matrix_list[i])\n",
    "        gl_within_correlated = GroupLasso(\n",
    "        groups=groups,\n",
    "        group_reg=5,\n",
    "        l1_reg=0,\n",
    "        frobenius_lipschitz=True,\n",
    "        scale_reg=\"inverse_group_size\",\n",
    "        subsampling_scheme=1,\n",
    "        supress_warning=True,\n",
    "        n_iter=10000\n",
    "        )\n",
    "        gl_within_correlated.fit(X, y)\n",
    "        yhat = gl_within_correlated.predict(X)\n",
    "        sparsity_mask = gl_within_correlated.sparsity_mask_\n",
    "        beta_hat = gl_within_correlated.coef_\n",
    "\n",
    "        MSE = mean_squared_error(y, yhat)\n",
    "        RMSE = np.sqrt(MSE)\n",
    "        MSE_list[i].append(MSE)\n",
    "        RMSE_list[i].append(RMSE)\n",
    "\n",
    "MSE_list_mean = np.mean(MSE_list, axis=1)\n",
    "RMSE_list_mean = np.mean(RMSE_list, axis=1)\n",
    "assert len(MSE_list_mean) == len(b_matrix_list)\n",
    "\n",
    "fig = plt.figure()\n",
    "ax = fig.add_subplot(111)\n",
    "ax.plot(np.arange(0.5, 0.95, 0.05) , MSE_list_mean, label='MSE') \n",
    "ax.plot(np.arange(0.5, 0.95, 0.05), RMSE_list_mean, label='RMSE')\n",
    "ax.legend()\n",
    "ax.set_xlabel('Between Group Correlation (0.9 within group correlation)')\n",
    "ax.set_ylabel('Error')\n",
    "ax.set_xticks(np.arange(0.5, 0.95, 0.05))\n",
    "plt.savefig('plot wgcorr09 bg.png', dpi=300, bbox_inches='tight')\n",
    "plt.show()"
   ]
  },
  {
   "cell_type": "code",
   "execution_count": 323,
   "metadata": {},
   "outputs": [
    {
     "data": {
      "image/png": "[encoded data removed]",
      "text/plain": [
       "<Figure size 432x288 with 1 Axes>"
      ]
     },
     "metadata": {
      "needs_background": "light"
     },
     "output_type": "display_data"
    }
   ],
   "source": [
    "reps = 50\n",
    "b_matrix_list = [make_block_matrix(n_groups, group_s, 0.6, corr) for corr in np.arange(0.1, 0.6, 0.05)]\n",
    "MSE_list = [[] for _ in range(len(b_matrix_list))]\n",
    "RMSE_list = [[] for _ in range(len(b_matrix_list))]\n",
    "\n",
    "\n",
    "for i in range(len(b_matrix_list)):\n",
    "    for rep in range(reps):\n",
    "        X, beta, y = simulate_regression(n_samples, n_coeffs, group_sizes, active_groups, \n",
    "                                     beta_std, gamma, b_matrix_list[i])\n",
    "        gl_within_correlated = GroupLasso(\n",
    "        groups=groups,\n",
    "        group_reg=5,\n",
    "        l1_reg=0,\n",
    "        frobenius_lipschitz=True,\n",
    "        scale_reg=\"inverse_group_size\",\n",
    "        subsampling_scheme=1,\n",
    "        supress_warning=True,\n",
    "        n_iter=10000\n",
    "        )\n",
    "        gl_within_correlated.fit(X, y)\n",
    "        yhat = gl_within_correlated.predict(X)\n",
    "        sparsity_mask = gl_within_correlated.sparsity_mask_\n",
    "        beta_hat = gl_within_correlated.coef_\n",
    "\n",
    "        MSE = mean_squared_error(y, yhat)\n",
    "        RMSE = np.sqrt(MSE)\n",
    "        MSE_list[i].append(MSE)\n",
    "        RMSE_list[i].append(RMSE)\n",
    "\n",
    "MSE_list_mean = np.mean(MSE_list, axis=1)\n",
    "RMSE_list_mean = np.mean(RMSE_list, axis=1)\n",
    "assert len(MSE_list_mean) == len(b_matrix_list)\n",
    "\n",
    "fig = plt.figure()\n",
    "ax = fig.add_subplot(111)\n",
    "ax.plot(np.arange(0.1, 0.6, 0.05) , MSE_list_mean, label='MSE') \n",
    "ax.plot(np.arange(0.1, 0.6, 0.05), RMSE_list_mean, label='RMSE')\n",
    "ax.legend()\n",
    "ax.set_xlabel('Between Group Correlation (0.6 within group correlation)')\n",
    "ax.set_ylabel('Error')\n",
    "ax.set_xticks(np.arange(0.1, 0.6, 0.05))\n",
    "plt.savefig('plot wgcorr06 bg.png', dpi=300, bbox_inches='tight')\n",
    "plt.show()"
   ]
  },
  {
   "cell_type": "code",
   "execution_count": 343,
   "metadata": {},
   "outputs": [],
   "source": [
    "b_matrix = make_block_matrix(n_groups, group_s, 0.9)\n",
    "X, beta, y = simulate_regression(n_samples, n_coeffs, group_sizes, active_groups, \n",
    "                                     beta_std, gamma, b_matrix)"
   ]
  },
  {
   "cell_type": "code",
   "execution_count": 339,
   "metadata": {},
   "outputs": [],
   "source": [
    "# Even groups\n",
    "ng_even = make_group_orderings(groups, [2*i for i in range(int(np.floor(n_groups)/2))])\n",
    "# Odd groups\n",
    "ng_odd = make_group_orderings(groups, [2*i + 1 for i in range(int(np.ceil(n_groups)/2))])\n",
    "# Some random group orders\n",
    "rand_orders = np.unique([np.random.choice(np.arange(n_groups), \n",
    "                                          n_groups, replace=False)for _ in range(100)], axis=0)\n",
    "ng_rand = [make_group_orderings(groups, grs) for grs in rand_orders]\n",
    "#different_repeats = [make_group_orderings(groups, np.unique(groups), \n",
    "#                    group_reps = tuple(np.random.randint(0,8,n_groups))) for _ in range(100)]\n",
    "\n",
    "\n",
    "\n",
    "\n",
    "\n",
    "# diff_rep_pattern1 = [make_group_orderings(groups, [0,2,1,3,4,5,6,7,8,9,10,11], \n",
    "#                     group_reps = np.random.randint(1,6,n_groups)) for _ in range(100)]\n",
    "\n",
    "# diff_rep_pattern2 = [make_group_orderings(groups, [0,1,5,3,4,2,7,6,8,9,10,11], \n",
    "#                     group_reps = np.random.randint(1,6,n_groups)) for _ in range(100)]\n",
    "\n",
    "# diff_rep_pattern3 = [make_group_orderings(groups, [8,1,10,11,4,5,6,7,0,9,2,3], \n",
    "#                     group_reps = np.random.randint(1,6,n_groups)) for _ in range(100)]\n",
    "\n",
    "# random_pattern_hs = [make_group_orderings(groups, np.unique(groups), \n",
    "#                                        total_shuffles=np.random.randint(len(groups)-40,\n",
    "#                                        len(groups))) for _ in range(200)]\n",
    "\n",
    "# random_pattern_ls = [make_group_orderings(groups, np.unique(groups), \n",
    "#                                        total_shuffles=np.random.randint(20,\n",
    "#                                        np.rint(len(groups)/2))) for _ in range(200)]\n",
    "\n",
    "#Remove elements from groups\n",
    "removed_groups = [make_group_orderings(groups, np.arange(i, n_groups)) for i in range(1, n_groups)]"
   ]
  },
  {
   "cell_type": "code",
   "execution_count": 313,
   "metadata": {},
   "outputs": [
    {
     "data": {
      "text/plain": [
       "array([ 0, 10,  4,  0,  0,  0,  0,  0,  2, 11,  7,  1, 11,  1, 10,  2,  0,\n",
       "        1,  1,  5,  1,  1,  1,  9,  8,  1,  2,  9,  8,  7, 10,  2,  2,  3,\n",
       "        7, 11, 11, 11,  3,  3,  8,  6,  6,  2,  4,  8,  3,  4,  2,  9,  4,\n",
       "        4,  4,  4,  4,  5,  2,  6,  5,  4,  5,  2,  5,  9,  8,  7,  5,  5,\n",
       "        4,  0,  2,  6,  0,  6,  6,  6,  8,  7,  7,  7,  7,  5, 10,  9,  7,\n",
       "        3,  8,  7,  4,  8,  8,  2,  8, 10,  9,  6,  3,  5, 11,  6,  0,  9,\n",
       "        2,  5,  3,  2,  9,  5,  9,  4, 10,  9,  0, 10, 10, 10, 10, 10,  0,\n",
       "        3, 10, 11,  6,  9, 11, 11, 11, 11,  0,  1, 11,  3])"
      ]
     },
     "execution_count": 313,
     "metadata": {},
     "output_type": "execute_result"
    }
   ],
   "source": [
    "random_pattern[4]"
   ]
  },
  {
   "cell_type": "code",
   "execution_count": 344,
   "metadata": {},
   "outputs": [
    {
     "ename": "KeyboardInterrupt",
     "evalue": "",
     "output_type": "error",
     "traceback": [
      "\u001b[1;31m---------------------------------------------------------------------------\u001b[0m",
      "\u001b[1;31mKeyboardInterrupt\u001b[0m                         Traceback (most recent call last)",
      "\u001b[1;32m<ipython-input-344-390e0ab7cbed>\u001b[0m in \u001b[0;36m<module>\u001b[1;34m\u001b[0m\n\u001b[0;32m     11\u001b[0m         \u001b[0mn_iter\u001b[0m\u001b[1;33m=\u001b[0m\u001b[1;36m10000\u001b[0m\u001b[1;33m\u001b[0m\u001b[1;33m\u001b[0m\u001b[0m\n\u001b[0;32m     12\u001b[0m     )\n\u001b[1;32m---> 13\u001b[1;33m     \u001b[0mgl\u001b[0m\u001b[1;33m.\u001b[0m\u001b[0mfit\u001b[0m\u001b[1;33m(\u001b[0m\u001b[0mX\u001b[0m\u001b[1;33m,\u001b[0m \u001b[0my\u001b[0m\u001b[1;33m)\u001b[0m\u001b[1;33m\u001b[0m\u001b[1;33m\u001b[0m\u001b[0m\n\u001b[0m\u001b[0;32m     14\u001b[0m \u001b[1;33m\u001b[0m\u001b[0m\n\u001b[0;32m     15\u001b[0m     \u001b[0myhat\u001b[0m \u001b[1;33m=\u001b[0m \u001b[0mgl\u001b[0m\u001b[1;33m.\u001b[0m\u001b[0mpredict\u001b[0m\u001b[1;33m(\u001b[0m\u001b[0mX\u001b[0m\u001b[1;33m)\u001b[0m\u001b[1;33m\u001b[0m\u001b[1;33m\u001b[0m\u001b[0m\n",
      "\u001b[1;32mc:\\users\\avajang-pc\\appdata\\local\\programs\\python\\python37\\lib\\site-packages\\group_lasso\\_group_lasso.py\u001b[0m in \u001b[0;36mfit\u001b[1;34m(self, X, y, lipschitz)\u001b[0m\n\u001b[0;32m    619\u001b[0m             \u001b[0mdata\u001b[0m \u001b[1;32mand\u001b[0m \u001b[0mtarget\u001b[0m \u001b[0mmatrices\u001b[0m\u001b[1;33m.\u001b[0m \u001b[0mIf\u001b[0m \u001b[1;32mNone\u001b[0m\u001b[1;33m,\u001b[0m \u001b[0mthis\u001b[0m \u001b[1;32mis\u001b[0m \u001b[0mestimated\u001b[0m\u001b[1;33m.\u001b[0m\u001b[1;33m\u001b[0m\u001b[1;33m\u001b[0m\u001b[0m\n\u001b[0;32m    620\u001b[0m         \"\"\"\n\u001b[1;32m--> 621\u001b[1;33m         \u001b[0msuper\u001b[0m\u001b[1;33m(\u001b[0m\u001b[1;33m)\u001b[0m\u001b[1;33m.\u001b[0m\u001b[0mfit\u001b[0m\u001b[1;33m(\u001b[0m\u001b[0mX\u001b[0m\u001b[1;33m,\u001b[0m \u001b[0my\u001b[0m\u001b[1;33m,\u001b[0m \u001b[0mlipschitz\u001b[0m\u001b[1;33m=\u001b[0m\u001b[0mlipschitz\u001b[0m\u001b[1;33m)\u001b[0m\u001b[1;33m\u001b[0m\u001b[1;33m\u001b[0m\u001b[0m\n\u001b[0m\u001b[0;32m    622\u001b[0m \u001b[1;33m\u001b[0m\u001b[0m\n\u001b[0;32m    623\u001b[0m     \u001b[1;32mdef\u001b[0m \u001b[0mpredict\u001b[0m\u001b[1;33m(\u001b[0m\u001b[0mself\u001b[0m\u001b[1;33m,\u001b[0m \u001b[0mX\u001b[0m\u001b[1;33m)\u001b[0m\u001b[1;33m:\u001b[0m\u001b[1;33m\u001b[0m\u001b[1;33m\u001b[0m\u001b[0m\n",
      "\u001b[1;32mc:\\users\\avajang-pc\\appdata\\local\\programs\\python\\python37\\lib\\site-packages\\group_lasso\\_group_lasso.py\u001b[0m in \u001b[0;36mfit\u001b[1;34m(self, X, y, lipschitz)\u001b[0m\n\u001b[0;32m    418\u001b[0m         \"\"\"\n\u001b[0;32m    419\u001b[0m         \u001b[0mself\u001b[0m\u001b[1;33m.\u001b[0m\u001b[0m_init_fit\u001b[0m\u001b[1;33m(\u001b[0m\u001b[0mX\u001b[0m\u001b[1;33m,\u001b[0m \u001b[0my\u001b[0m\u001b[1;33m,\u001b[0m \u001b[0mlipschitz\u001b[0m\u001b[1;33m=\u001b[0m\u001b[0mlipschitz\u001b[0m\u001b[1;33m)\u001b[0m\u001b[1;33m\u001b[0m\u001b[1;33m\u001b[0m\u001b[0m\n\u001b[1;32m--> 420\u001b[1;33m         \u001b[0mself\u001b[0m\u001b[1;33m.\u001b[0m\u001b[0m_minimise_loss\u001b[0m\u001b[1;33m(\u001b[0m\u001b[1;33m)\u001b[0m\u001b[1;33m\u001b[0m\u001b[1;33m\u001b[0m\u001b[0m\n\u001b[0m\u001b[0;32m    421\u001b[0m \u001b[1;33m\u001b[0m\u001b[0m\n\u001b[0;32m    422\u001b[0m     \u001b[1;33m@\u001b[0m\u001b[0mabstractmethod\u001b[0m\u001b[1;33m\u001b[0m\u001b[1;33m\u001b[0m\u001b[0m\n",
      "\u001b[1;32mc:\\users\\avajang-pc\\appdata\\local\\programs\\python\\python37\\lib\\site-packages\\group_lasso\\_group_lasso.py\u001b[0m in \u001b[0;36m_minimise_loss\u001b[1;34m(self)\u001b[0m\n\u001b[0;32m    353\u001b[0m             \u001b[0mn_iter\u001b[0m\u001b[1;33m=\u001b[0m\u001b[0mself\u001b[0m\u001b[1;33m.\u001b[0m\u001b[0mn_iter\u001b[0m\u001b[1;33m,\u001b[0m\u001b[1;33m\u001b[0m\u001b[1;33m\u001b[0m\u001b[0m\n\u001b[0;32m    354\u001b[0m             \u001b[0mtol\u001b[0m\u001b[1;33m=\u001b[0m\u001b[0mself\u001b[0m\u001b[1;33m.\u001b[0m\u001b[0mtol\u001b[0m\u001b[1;33m,\u001b[0m\u001b[1;33m\u001b[0m\u001b[1;33m\u001b[0m\u001b[0m\n\u001b[1;32m--> 355\u001b[1;33m             \u001b[0mcallback\u001b[0m\u001b[1;33m=\u001b[0m\u001b[0mcallback\u001b[0m\u001b[1;33m,\u001b[0m\u001b[1;33m\u001b[0m\u001b[1;33m\u001b[0m\u001b[0m\n\u001b[0m\u001b[0;32m    356\u001b[0m         )\n\u001b[0;32m    357\u001b[0m         \u001b[0mself\u001b[0m\u001b[1;33m.\u001b[0m\u001b[0mintercept_\u001b[0m\u001b[1;33m,\u001b[0m \u001b[0mself\u001b[0m\u001b[1;33m.\u001b[0m\u001b[0mcoef_\u001b[0m \u001b[1;33m=\u001b[0m \u001b[0m_split_intercept\u001b[0m\u001b[1;33m(\u001b[0m\u001b[0mweights\u001b[0m\u001b[1;33m)\u001b[0m\u001b[1;33m\u001b[0m\u001b[1;33m\u001b[0m\u001b[0m\n",
      "\u001b[1;32mc:\\users\\avajang-pc\\appdata\\local\\programs\\python\\python37\\lib\\site-packages\\group_lasso\\_fista.py\u001b[0m in \u001b[0;36mfista\u001b[1;34m(x0, grad, prox, loss, lipschitz, n_iter, tol, callback)\u001b[0m\n\u001b[0;32m     39\u001b[0m         \u001b[0mprevious_x\u001b[0m \u001b[1;33m=\u001b[0m \u001b[0moptimal_x\u001b[0m\u001b[1;33m\u001b[0m\u001b[1;33m\u001b[0m\u001b[0m\n\u001b[0;32m     40\u001b[0m         optimal_x, momentum_x, momentum = _fista_it(\n\u001b[1;32m---> 41\u001b[1;33m             \u001b[0moptimal_x\u001b[0m\u001b[1;33m,\u001b[0m \u001b[0mmomentum_x\u001b[0m\u001b[1;33m,\u001b[0m \u001b[0mmomentum\u001b[0m\u001b[1;33m,\u001b[0m \u001b[0mlipschitz\u001b[0m\u001b[1;33m,\u001b[0m \u001b[0mgrad\u001b[0m\u001b[1;33m,\u001b[0m \u001b[0mprox\u001b[0m\u001b[1;33m\u001b[0m\u001b[1;33m\u001b[0m\u001b[0m\n\u001b[0m\u001b[0;32m     42\u001b[0m         )\n\u001b[0;32m     43\u001b[0m \u001b[1;33m\u001b[0m\u001b[0m\n",
      "\u001b[1;32mc:\\users\\avajang-pc\\appdata\\local\\programs\\python\\python37\\lib\\site-packages\\group_lasso\\_fista.py\u001b[0m in \u001b[0;36m_fista_it\u001b[1;34m(x, momentum_x, momentum, lipschitz, grad, prox)\u001b[0m\n\u001b[0;32m     20\u001b[0m     ) > 0:\n\u001b[0;32m     21\u001b[0m         new_x, new_momentum_x, new_momentum = _fista_it(\n\u001b[1;32m---> 22\u001b[1;33m             \u001b[0mx\u001b[0m\u001b[1;33m,\u001b[0m \u001b[0mx\u001b[0m\u001b[1;33m,\u001b[0m \u001b[1;36m1\u001b[0m\u001b[1;33m,\u001b[0m \u001b[0mlipschitz\u001b[0m\u001b[1;33m,\u001b[0m \u001b[0mgrad\u001b[0m\u001b[1;33m,\u001b[0m \u001b[0mprox\u001b[0m\u001b[1;33m\u001b[0m\u001b[1;33m\u001b[0m\u001b[0m\n\u001b[0m\u001b[0;32m     23\u001b[0m         )\n\u001b[0;32m     24\u001b[0m \u001b[1;33m\u001b[0m\u001b[0m\n",
      "\u001b[1;32mc:\\users\\avajang-pc\\appdata\\local\\programs\\python\\python37\\lib\\site-packages\\group_lasso\\_fista.py\u001b[0m in \u001b[0;36m_fista_it\u001b[1;34m(x, momentum_x, momentum, lipschitz, grad, prox)\u001b[0m\n\u001b[0;32m     10\u001b[0m \u001b[1;33m\u001b[0m\u001b[0m\n\u001b[0;32m     11\u001b[0m \u001b[1;32mdef\u001b[0m \u001b[0m_fista_it\u001b[0m\u001b[1;33m(\u001b[0m\u001b[0mx\u001b[0m\u001b[1;33m,\u001b[0m \u001b[0mmomentum_x\u001b[0m\u001b[1;33m,\u001b[0m \u001b[0mmomentum\u001b[0m\u001b[1;33m,\u001b[0m \u001b[0mlipschitz\u001b[0m\u001b[1;33m,\u001b[0m \u001b[0mgrad\u001b[0m\u001b[1;33m,\u001b[0m \u001b[0mprox\u001b[0m\u001b[1;33m)\u001b[0m\u001b[1;33m:\u001b[0m\u001b[1;33m\u001b[0m\u001b[1;33m\u001b[0m\u001b[0m\n\u001b[1;32m---> 12\u001b[1;33m     \u001b[0mnew_x\u001b[0m \u001b[1;33m=\u001b[0m \u001b[0mprox\u001b[0m\u001b[1;33m(\u001b[0m\u001b[0mmomentum_x\u001b[0m \u001b[1;33m-\u001b[0m \u001b[1;36m0.5\u001b[0m \u001b[1;33m*\u001b[0m \u001b[0mgrad\u001b[0m\u001b[1;33m(\u001b[0m\u001b[0mmomentum_x\u001b[0m\u001b[1;33m)\u001b[0m \u001b[1;33m/\u001b[0m \u001b[0mlipschitz\u001b[0m\u001b[1;33m)\u001b[0m\u001b[1;33m\u001b[0m\u001b[1;33m\u001b[0m\u001b[0m\n\u001b[0m\u001b[0;32m     13\u001b[0m     \u001b[0mnew_momentum\u001b[0m \u001b[1;33m=\u001b[0m \u001b[0m_fista_momentum\u001b[0m\u001b[1;33m(\u001b[0m\u001b[0mmomentum\u001b[0m\u001b[1;33m)\u001b[0m\u001b[1;33m\u001b[0m\u001b[1;33m\u001b[0m\u001b[0m\n\u001b[0;32m     14\u001b[0m \u001b[1;33m\u001b[0m\u001b[0m\n",
      "\u001b[1;32mc:\\users\\avajang-pc\\appdata\\local\\programs\\python\\python37\\lib\\site-packages\\group_lasso\\_group_lasso.py\u001b[0m in \u001b[0;36m_unregularised_gradient\u001b[1;34m(self, w)\u001b[0m\n\u001b[0;32m    287\u001b[0m \u001b[1;33m\u001b[0m\u001b[0m\n\u001b[0;32m    288\u001b[0m     \u001b[1;32mdef\u001b[0m \u001b[0m_unregularised_gradient\u001b[0m\u001b[1;33m(\u001b[0m\u001b[0mself\u001b[0m\u001b[1;33m,\u001b[0m \u001b[0mw\u001b[0m\u001b[1;33m)\u001b[0m\u001b[1;33m:\u001b[0m\u001b[1;33m\u001b[0m\u001b[1;33m\u001b[0m\u001b[0m\n\u001b[1;32m--> 289\u001b[1;33m         \u001b[0mg\u001b[0m \u001b[1;33m=\u001b[0m \u001b[0mself\u001b[0m\u001b[1;33m.\u001b[0m\u001b[0m_grad\u001b[0m\u001b[1;33m(\u001b[0m\u001b[0mself\u001b[0m\u001b[1;33m.\u001b[0m\u001b[0mX_\u001b[0m\u001b[1;33m,\u001b[0m \u001b[0mself\u001b[0m\u001b[1;33m.\u001b[0m\u001b[0my_\u001b[0m\u001b[1;33m,\u001b[0m \u001b[0mw\u001b[0m\u001b[1;33m)\u001b[0m\u001b[1;33m\u001b[0m\u001b[1;33m\u001b[0m\u001b[0m\n\u001b[0m\u001b[0;32m    290\u001b[0m         \u001b[1;32mif\u001b[0m \u001b[1;32mnot\u001b[0m \u001b[0mself\u001b[0m\u001b[1;33m.\u001b[0m\u001b[0mfit_intercept\u001b[0m\u001b[1;33m:\u001b[0m\u001b[1;33m\u001b[0m\u001b[1;33m\u001b[0m\u001b[0m\n\u001b[0;32m    291\u001b[0m             \u001b[0mg\u001b[0m\u001b[1;33m[\u001b[0m\u001b[1;36m0\u001b[0m\u001b[1;33m]\u001b[0m \u001b[1;33m=\u001b[0m \u001b[1;36m0\u001b[0m\u001b[1;33m\u001b[0m\u001b[1;33m\u001b[0m\u001b[0m\n",
      "\u001b[1;32mc:\\users\\avajang-pc\\appdata\\local\\programs\\python\\python37\\lib\\site-packages\\group_lasso\\_group_lasso.py\u001b[0m in \u001b[0;36m_grad\u001b[1;34m(self, X, y, w)\u001b[0m\n\u001b[0;32m    633\u001b[0m     \u001b[1;32mdef\u001b[0m \u001b[0m_grad\u001b[0m\u001b[1;33m(\u001b[0m\u001b[0mself\u001b[0m\u001b[1;33m,\u001b[0m \u001b[0mX\u001b[0m\u001b[1;33m,\u001b[0m \u001b[0my\u001b[0m\u001b[1;33m,\u001b[0m \u001b[0mw\u001b[0m\u001b[1;33m)\u001b[0m\u001b[1;33m:\u001b[0m\u001b[1;33m\u001b[0m\u001b[1;33m\u001b[0m\u001b[0m\n\u001b[0;32m    634\u001b[0m         \u001b[0mX_\u001b[0m\u001b[1;33m,\u001b[0m \u001b[0my_\u001b[0m \u001b[1;33m=\u001b[0m \u001b[0mself\u001b[0m\u001b[1;33m.\u001b[0m\u001b[0msubsample\u001b[0m\u001b[1;33m(\u001b[0m\u001b[0mX\u001b[0m\u001b[1;33m,\u001b[0m \u001b[0my\u001b[0m\u001b[1;33m)\u001b[0m\u001b[1;33m\u001b[0m\u001b[1;33m\u001b[0m\u001b[0m\n\u001b[1;32m--> 635\u001b[1;33m         \u001b[0mSSE_grad\u001b[0m \u001b[1;33m=\u001b[0m \u001b[0m_l2_grad\u001b[0m\u001b[1;33m(\u001b[0m\u001b[0mX_\u001b[0m\u001b[1;33m,\u001b[0m \u001b[0my_\u001b[0m\u001b[1;33m,\u001b[0m \u001b[0mw\u001b[0m\u001b[1;33m)\u001b[0m\u001b[1;33m\u001b[0m\u001b[1;33m\u001b[0m\u001b[0m\n\u001b[0m\u001b[0;32m    636\u001b[0m         \u001b[1;32mreturn\u001b[0m \u001b[0mSSE_grad\u001b[0m \u001b[1;33m/\u001b[0m \u001b[0mX_\u001b[0m\u001b[1;33m.\u001b[0m\u001b[0mshape\u001b[0m\u001b[1;33m[\u001b[0m\u001b[1;36m0\u001b[0m\u001b[1;33m]\u001b[0m\u001b[1;33m\u001b[0m\u001b[1;33m\u001b[0m\u001b[0m\n\u001b[0;32m    637\u001b[0m \u001b[1;33m\u001b[0m\u001b[0m\n",
      "\u001b[1;32mc:\\users\\avajang-pc\\appdata\\local\\programs\\python\\python37\\lib\\site-packages\\group_lasso\\_group_lasso.py\u001b[0m in \u001b[0;36m_l2_grad\u001b[1;34m(A, b, x)\u001b[0m\n\u001b[0;32m    483\u001b[0m     \"\"\"The gradient of the problem ||Ax - b||^2 wrt x.\n\u001b[0;32m    484\u001b[0m     \"\"\"\n\u001b[1;32m--> 485\u001b[1;33m     \u001b[1;32mreturn\u001b[0m \u001b[0mA\u001b[0m\u001b[1;33m.\u001b[0m\u001b[0mT\u001b[0m \u001b[1;33m@\u001b[0m \u001b[1;33m(\u001b[0m\u001b[0mA\u001b[0m \u001b[1;33m@\u001b[0m \u001b[0mx\u001b[0m \u001b[1;33m-\u001b[0m \u001b[0mb\u001b[0m\u001b[1;33m)\u001b[0m\u001b[1;33m\u001b[0m\u001b[1;33m\u001b[0m\u001b[0m\n\u001b[0m\u001b[0;32m    486\u001b[0m \u001b[1;33m\u001b[0m\u001b[0m\n\u001b[0;32m    487\u001b[0m \u001b[1;33m\u001b[0m\u001b[0m\n",
      "\u001b[1;31mKeyboardInterrupt\u001b[0m: "
     ]
    }
   ],
   "source": [
    "MSE_list_gr1 = []\n",
    "for rep in range(100):\n",
    "    gl = GroupLasso(\n",
    "        groups=groups,\n",
    "        group_reg=1,\n",
    "        l1_reg=0,\n",
    "        frobenius_lipschitz=True,\n",
    "        scale_reg=\"inverse_group_size\",\n",
    "        subsampling_scheme=1,\n",
    "        supress_warning=True,\n",
    "        n_iter=10000\n",
    "    )\n",
    "    gl.fit(X, y)\n",
    "\n",
    "    yhat = gl.predict(X)\n",
    "    sparsity_mask = gl.sparsity_mask_\n",
    "    beta_hat = gl.coef_\n",
    "\n",
    "    MSE_list_gr1.append(mean_squared_error(y, yhat))\n"
   ]
  },
  {
   "cell_type": "code",
   "execution_count": 345,
   "metadata": {},
   "outputs": [
    {
     "data": {
      "text/plain": [
       "[<matplotlib.lines.Line2D at 0x24db7d89608>]"
      ]
     },
     "execution_count": 345,
     "metadata": {},
     "output_type": "execute_result"
    },
    {
     "data": {
      "image/png": "[encoded data removed]",
      "text/plain": [
       "<Figure size 432x288 with 1 Axes>"
      ]
     },
     "metadata": {
      "needs_background": "light"
     },
     "output_type": "display_data"
    }
   ],
   "source": [
    "MSE_list_gr1_diffo = []\n",
    "for gr in removed_groups:\n",
    "    gl = GroupLasso(\n",
    "        groups=gr,\n",
    "        group_reg=1,\n",
    "        l1_reg=0,\n",
    "        frobenius_lipschitz=True,\n",
    "        scale_reg=\"inverse_group_size\",\n",
    "        subsampling_scheme=1,\n",
    "        supress_warning=True,\n",
    "        n_iter=10000\n",
    "    )\n",
    "    gl.fit(X, y)\n",
    "\n",
    "    yhat = gl.predict(X)\n",
    "    sparsity_mask = gl.sparsity_mask_\n",
    "    beta_hat = gl.coef_\n",
    "\n",
    "    MSE_list_gr1_diffo.append(mean_squared_error(y, yhat)) \n",
    "\n",
    "plt.plot(np.arange(len(MSE_list_gr1_diffo)), MSE_list_gr1_diffo)\n",
    "# MSE_list_gr1_diffo1 = []\n",
    "# for gr in random_pattern_ls:\n",
    "#     gl1 = GroupLasso(\n",
    "#         groups=gr,\n",
    "#         group_reg=1,\n",
    "#         l1_reg=0,\n",
    "#         frobenius_lipschitz=True,\n",
    "#         scale_reg=\"inverse_group_size\",\n",
    "#         subsampling_scheme=1,\n",
    "#         supress_warning=True,\n",
    "#         n_iter=10000\n",
    "#     )\n",
    "#     gl1.fit(X, y)\n",
    "\n",
    "#     yhat = gl1.predict(X)\n",
    "#     sparsity_mask = gl1.sparsity_mask_\n",
    "#     beta_hat = gl1.coef_\n",
    "\n",
    "#     MSE_list_gr1_diffo1.append(mean_squared_error(y, yhat)) \n",
    "\n"
   ]
  },
  {
   "cell_type": "code",
   "execution_count": 316,
   "metadata": {},
   "outputs": [
    {
     "data": {
      "image/png": "[encoded data removed]",
      "text/plain": [
       "<Figure size 432x288 with 1 Axes>"
      ]
     },
     "metadata": {
      "needs_background": "light"
     },
     "output_type": "display_data"
    }
   ],
   "source": [
    "mean1 = np.mean(MSE_list_gr1_diffo)\n",
    "mean2 = np.mean(MSE_list_gr1_diffo1)\n",
    "\n",
    "\n",
    "std1 = np.std(MSE_list_gr1_diffo)\n",
    "std2 = np.std(MSE_list_gr1_diffo1)\n",
    "\n",
    "\n",
    "xlab = ['high shuffling', 'low shuffling']\n",
    "plt.bar(xlab, [mean1, mean2], yerr=[std1, std2])\n",
    "plt.ylabel('Mean MSE for 100 samples')\n",
    "plt.savefig('plot barplot_sh.png', dpi=300, bbox_inches='tight')\n"
   ]
  },
  {
   "cell_type": "code",
   "execution_count": 338,
   "metadata": {},
   "outputs": [
    {
     "data": {
      "text/plain": [
       "[2.6910428727182603,\n",
       " 2.6930989104195935,\n",
       " 2.6938866550936993,\n",
       " 2.6910248165876616,\n",
       " 2.6914827411380093,\n",
       " 2.6915296741335157,\n",
       " 2.6919130650427614,\n",
       " 2.692890858397393,\n",
       " 2.6896727703854575,\n",
       " 2.6936119553783655,\n",
       " 2.6930334452976523,\n",
       " 2.690999877194316,\n",
       " 2.6930996326693104,\n",
       " 2.6912919270709232,\n",
       " 2.690842024073443,\n",
       " 2.693035353283338,\n",
       " 2.6932993027667473,\n",
       " 2.6927108675487905,\n",
       " 2.691040773340149,\n",
       " 2.6938267624918817,\n",
       " 2.6909976449020103,\n",
       " 2.6935314635013046,\n",
       " 2.6910425856766613,\n",
       " 2.6934627116647114,\n",
       " 2.6937655866538934,\n",
       " 2.6936862818713907,\n",
       " 2.691964068867622,\n",
       " 2.693352735703445,\n",
       " 2.6911766085347315,\n",
       " 2.691123680231251,\n",
       " 2.6912079695548026,\n",
       " 2.6925887661452244,\n",
       " 2.6912834824719374,\n",
       " 2.693793199713485,\n",
       " 2.691138871480497,\n",
       " 2.6911898659618627,\n",
       " 2.6929890085455424,\n",
       " 2.6909990671659276,\n",
       " 2.691190614855871,\n",
       " 2.6932582829864082,\n",
       " 2.6932325189588235,\n",
       " 2.693090326714215,\n",
       " 2.6915800458820724,\n",
       " 2.690738296500566,\n",
       " 2.6913866597989773,\n",
       " 2.693126682604354,\n",
       " 2.691657420068684,\n",
       " 2.6930607203534267,\n",
       " 2.6909117784524352,\n",
       " 2.6914672227311045,\n",
       " 2.6909465521519347,\n",
       " 2.6912021493381837,\n",
       " 2.693782240972528,\n",
       " 2.6907157476759886,\n",
       " 2.6930876310630047,\n",
       " 2.6935708445917865,\n",
       " 2.693665220490612,\n",
       " 2.6935140634696317,\n",
       " 2.693241189643814,\n",
       " 2.6931340905830092,\n",
       " 2.6935249924726397,\n",
       " 2.6930378294411286,\n",
       " 2.69062361132227,\n",
       " 2.693183554802627,\n",
       " 2.691138810428294,\n",
       " 2.6925693718849804,\n",
       " 2.6939329238147476,\n",
       " 2.6938229228684603,\n",
       " 2.6912451591685214,\n",
       " 2.6913768949781374,\n",
       " 2.6911722570574224,\n",
       " 2.692955117450037,\n",
       " 2.6909647267219667,\n",
       " 2.6928816273290477,\n",
       " 2.6924146345832383,\n",
       " 2.6911778830365587,\n",
       " 2.6910310315184645,\n",
       " 2.6930944458612194,\n",
       " 2.6936198177872686,\n",
       " 2.6934556000018497,\n",
       " 2.6911808993708055,\n",
       " 2.692000412278131,\n",
       " 2.692780444437215,\n",
       " 2.692525318402536,\n",
       " 2.6932672067124086,\n",
       " 2.693570018262224,\n",
       " 2.6911953642266218,\n",
       " 2.691379037496322,\n",
       " 2.6909779917273964,\n",
       " 2.69126771032003,\n",
       " 2.6911417012167917,\n",
       " 2.691280606632052,\n",
       " 2.6911730982707676,\n",
       " 2.693725753306174,\n",
       " 2.6909911362522463,\n",
       " 2.6911613092797406,\n",
       " 2.693369709052498,\n",
       " 2.6928923952319357,\n",
       " 2.6908813774164786,\n",
       " 2.6915224147752688]"
      ]
     },
     "execution_count": 338,
     "metadata": {},
     "output_type": "execute_result"
    }
   ],
   "source": [
    "MSE_list_gr1_diffo"
   ]
  },
  {
   "cell_type": "code",
   "execution_count": 463,
   "metadata": {},
   "outputs": [
    {
     "name": "stdout",
     "output_type": "stream",
     "text": [
      "X shape: (1000, 600)\n",
      "Estimated intercept: [0.00528862]\n"
     ]
    },
    {
     "name": "stderr",
     "output_type": "stream",
     "text": [
      "c:\\users\\avajang-pc\\appdata\\local\\programs\\python\\python37\\lib\\site-packages\\ipykernel_launcher.py:6: UserWarning: Legend does not support [<matplotlib.lines.Line2D object at 0x000002272103BC48>] instances.\n",
      "A proxy artist may be used instead.\n",
      "See: http://matplotlib.org/users/legend_guide.html#creating-artists-specifically-for-adding-to-the-legend-aka-proxy-artists\n",
      "  \n",
      "c:\\users\\avajang-pc\\appdata\\local\\programs\\python\\python37\\lib\\site-packages\\ipykernel_launcher.py:6: UserWarning: Legend does not support [<matplotlib.lines.Line2D object at 0x0000022720F6DD08>] instances.\n",
      "A proxy artist may be used instead.\n",
      "See: http://matplotlib.org/users/legend_guide.html#creating-artists-specifically-for-adding-to-the-legend-aka-proxy-artists\n",
      "  \n"
     ]
    },
    {
     "data": {
      "image/png": "[encoded data removed]",
      "text/plain": [
       "<Figure size 432x288 with 1 Axes>"
      ]
     },
     "metadata": {
      "needs_background": "light"
     },
     "output_type": "display_data"
    },
    {
     "data": {
      "image/png": "[encoded data removed]",
      "text/plain": [
       "<Figure size 432x288 with 1 Axes>"
      ]
     },
     "metadata": {
      "needs_background": "light"
     },
     "output_type": "display_data"
    }
   ],
   "source": [
    "columns = ['MSE', 'RMSE', 'Loss']\n",
    "rows = ['Group %d' % i for i in range(10)]\n",
    "\n",
    "\n",
    "plt.figure()\n",
    "true_weights = plt.plot(beta, \"^\", label=\"True weights\")\n",
    "estimated_weights = plt.plot(beta_hat, \".\", label=\"Estimated weights\")\n",
    "plt.legend([true_weights, estimated_weights], [\"True weights\", \"Estimated weights\"])\n",
    "\n",
    "plt.figure()\n",
    "plt.plot([beta.min(), beta.max()], [beta_hat.min(), beta_hat.max()], \"gray\")\n",
    "plt.scatter(beta, beta_hat, s=10)\n",
    "plt.ylabel(\"Learned coefficients\")\n",
    "plt.xlabel(\"True coefficients\")\n",
    "\n",
    "\n",
    "print(\"X shape: {X.shape}\".format(X=X))\n",
    "print(\"Estimated intercept: {intercept}\".format(intercept=gl.intercept_))\n",
    "plt.show()"
   ]
  },
  {
   "cell_type": "code",
   "execution_count": 482,
   "metadata": {},
   "outputs": [
    {
     "data": {
      "text/plain": [
       "array([1, 2, 3])"
      ]
     },
     "execution_count": 482,
     "metadata": {},
     "output_type": "execute_result"
    }
   ],
   "source": [
    "a = np.array([1, 1, 1, 2, 2, 2, 3, 3, 3])\n",
    "np.unique(a)"
   ]
  }
 ],
 "metadata": {
  "kernelspec": {
   "display_name": "Python 3",
   "language": "python",
   "name": "python3"
  },
  "language_info": {
   "codemirror_mode": {
    "name": "ipython",
    "version": 3
   },
   "file_extension": ".py",
   "mimetype": "text/x-python",
   "name": "python",
   "nbconvert_exporter": "python",
   "pygments_lexer": "ipython3",
   "version": "3.7.4"
  }
 },
 "nbformat": 4,
 "nbformat_minor": 4
}
